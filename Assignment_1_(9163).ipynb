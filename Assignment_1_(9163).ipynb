{
  "nbformat": 4,
  "nbformat_minor": 0,
  "metadata": {
    "colab": {
      "name": "Assignment 1 (9163)",
      "provenance": []
    },
    "kernelspec": {
      "name": "python3",
      "display_name": "Python 3"
    },
    "language_info": {
      "name": "python"
    }
  },
  "cells": [
    {
      "cell_type": "code",
      "execution_count": 3,
      "metadata": {
        "colab": {
          "base_uri": "https://localhost:8080/"
        },
        "id": "dT7fa4Dh1k67",
        "outputId": "8284fc46-9586-4e12-b612-3b3123362ced"
      },
      "outputs": [
        {
          "output_type": "stream",
          "name": "stdout",
          "text": [
            "['Shinde Prajakta', 20, 'Swati']\n",
            "['SP College', 'TYBSC', 9163]\n"
          ]
        }
      ],
      "source": [
        "##List\n",
        "A=[\"Shinde Prajakta\" ,20,\"Swati\"]\n",
        "B=[\"SP College\",\"TYBSC\",9163]\n",
        "print(A)\n",
        "print(B)"
      ]
    },
    {
      "cell_type": "code",
      "source": [
        "##Tuples\n",
        "a=(\"Shinde Prajakta\" ,20,\"Swati\")\n",
        "b=(\"SP College\",\"TYBSC\",9163)\n",
        "print(a)\n",
        "print(b)"
      ],
      "metadata": {
        "id": "CRz0lpYY3Xtx"
      },
      "execution_count": null,
      "outputs": []
    }
  ]
}